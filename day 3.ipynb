{
 "cells": [
  {
   "cell_type": "code",
   "execution_count": 19,
   "id": "31b3c441-908c-4dbf-8928-1b891f2e8717",
   "metadata": {},
   "outputs": [
    {
     "name": "stdout",
     "output_type": "stream",
     "text": [
      "yes i will be able to buy\n"
     ]
    }
   ],
   "source": [
    "a = 500\n",
    "price = 450\n",
    "if price <= 500:\n",
    "    print(\"yes i will be able to buy\")"
   ]
  },
  {
   "cell_type": "code",
   "execution_count": 11,
   "id": "1f750395-798c-440b-b9ca-fc0d356e0a49",
   "metadata": {},
   "outputs": [
    {
     "data": {
      "text/plain": [
       "True"
      ]
     },
     "execution_count": 11,
     "metadata": {},
     "output_type": "execute_result"
    }
   ],
   "source": [
    "price <= 500"
   ]
  },
  {
   "cell_type": "code",
   "execution_count": 14,
   "id": "cba3509b-c2bf-4e88-875f-28cfcdf22b65",
   "metadata": {},
   "outputs": [],
   "source": [
    "a = 500\n",
    "price = 450\n",
    "if price <= 500:\n",
    "    pass "
   ]
  },
  {
   "cell_type": "code",
   "execution_count": 15,
   "id": "fa30c26c-a671-4a97-a6a1-46112ca7e6f4",
   "metadata": {},
   "outputs": [
    {
     "data": {
      "text/plain": [
       "True"
      ]
     },
     "execution_count": 15,
     "metadata": {},
     "output_type": "execute_result"
    }
   ],
   "source": [
    "price <= 500"
   ]
  },
  {
   "cell_type": "code",
   "execution_count": 18,
   "id": "80b77248-7c37-4cb4-885c-128a40ea8baa",
   "metadata": {},
   "outputs": [
    {
     "data": {
      "text/plain": [
       "False"
      ]
     },
     "execution_count": 18,
     "metadata": {},
     "output_type": "execute_result"
    }
   ],
   "source": [
    "850 <= 500"
   ]
  },
  {
   "cell_type": "code",
   "execution_count": 20,
   "id": "14be0729-d26a-4540-9b91-8dc23c5ab780",
   "metadata": {},
   "outputs": [
    {
     "name": "stdout",
     "output_type": "stream",
     "text": [
      "I won't be able to buy\n"
     ]
    }
   ],
   "source": [
    "a = 500\n",
    "price = 850\n",
    "if price <= 500:\n",
    "    print(\"yes i will be able to buy\")\n",
    "else:\n",
    "    print(\"I won't be able to buy\")"
   ]
  },
  {
   "cell_type": "code",
   "execution_count": 22,
   "id": "25c00ad7-4330-4263-bfbe-222284f1be89",
   "metadata": {},
   "outputs": [
    {
     "name": "stdout",
     "output_type": "stream",
     "text": [
      "I will try to buy a shirt\n"
     ]
    }
   ],
   "source": [
    "a = 500\n",
    "shirt_price = 200\n",
    "pant_price = 500\n",
    "coat_price = 800\n",
    "if coat_price <= a:\n",
    "    print(\"I will try to buy a coat\")\n",
    "elif pant_price < 500:\n",
    "    print(\"I will try to buy a pant\")\n",
    "elif shirt_price < 500:\n",
    "    print(\"I will try to buy a shirt\")\n",
    "else:\n",
    "    print(\"I won't be able to buy\")"
   ]
  },
  {
   "cell_type": "code",
   "execution_count": 27,
   "id": "fa94e381-f1b4-4043-ac5f-7364c5e8e375",
   "metadata": {},
   "outputs": [
    {
     "name": "stdout",
     "output_type": "stream",
     "text": [
      "I will try to buy a shirt\n"
     ]
    }
   ],
   "source": [
    "a = 500\n",
    "shirt_price = 200\n",
    "pant_price = 500\n",
    "coat_price = 800\n",
    "my_size = 'M'\n",
    "size_store = 'L'\n",
    "if coat_price <= a:\n",
    "    print(\"I will try to buy a coat\")\n",
    "elif pant_price < 500:\n",
    "    print(\"I will try to buy a pant\")\n",
    "elif shirt_price < 500:\n",
    "    if my_size == size_store:\n",
    "        print(\"yes its available under my budget\")\n",
    "    print(\"I will try to buy a shirt\")\n",
    "else:\n",
    "    print(\"I won't be able to buy\")"
   ]
  },
  {
   "cell_type": "code",
   "execution_count": 36,
   "id": "a489b1bb-062b-4e34-b50a-7452edc50b2a",
   "metadata": {},
   "outputs": [
    {
     "name": "stdout",
     "output_type": "stream",
     "text": [
      "yes its available under my budget\n",
      "I will try to buy a shirt\n",
      "Yes I will try to chose it\n"
     ]
    }
   ],
   "source": [
    "a = 500\n",
    "shirt_price = 200\n",
    "pant_price = 500\n",
    "coat_price = 800\n",
    "my_size = 'M'\n",
    "size_store = ['L', 'XL', 'S', 'XXL', 'XXXL', 'M']\n",
    "my_fav_clr = 'white'\n",
    "store_clr = ['white', 'red', 'blue', 'black']\n",
    "if coat_price <= a:\n",
    "    print(\"I will try to buy a coat\")\n",
    "elif pant_price < 500:\n",
    "    print(\"I will try to buy a pant\")\n",
    "elif shirt_price < 500:\n",
    "    print(\"yes its available under my budget\")\n",
    "    if my_size in size_store:\n",
    "        print(\"I will try to buy a shirt\")\n",
    "        if my_fav_clr in store_clr:\n",
    "            print(\"Yes I will try to chose it\")\n",
    "        else:\n",
    "            print(\"my favorite color is not available I will move to another store\")\n",
    "    else:\n",
    "        print(\"my size is not available\")\n",
    "else:\n",
    "    print(\"I won't be able to buy\")"
   ]
  },
  {
   "cell_type": "code",
   "execution_count": 29,
   "id": "75cf6da6-eb6c-4acb-b4ad-d2543e559d13",
   "metadata": {},
   "outputs": [
    {
     "data": {
      "text/plain": [
       "False"
      ]
     },
     "execution_count": 29,
     "metadata": {},
     "output_type": "execute_result"
    }
   ],
   "source": [
    "'M' in size_store"
   ]
  },
  {
   "cell_type": "code",
   "execution_count": 42,
   "id": "3a633b0a-e0bc-4692-b345-f72f453fcf58",
   "metadata": {},
   "outputs": [
    {
     "name": "stdout",
     "output_type": "stream",
     "text": [
      "Yes I am doing this course\n"
     ]
    }
   ],
   "source": [
    "course = ['DSM', 'DSA', 'Java', 'Big Data', 'DA']\n",
    "price = 20000\n",
    "mentor = \"sudhansu kumar\"\n",
    "if 'DSM' in course and price == 20000 and \"sudhansu kumar\" == mentor:\n",
    "    print(\"Yes I am doing this course\")"
   ]
  },
  {
   "cell_type": "code",
   "execution_count": 46,
   "id": "a33433f2-608f-47f5-b0a6-00f4861a5b4a",
   "metadata": {},
   "outputs": [
    {
     "name": "stdout",
     "output_type": "stream",
     "text": [
      "Its out of my budget\n"
     ]
    }
   ],
   "source": [
    "course_price = 20000\n",
    "if 10000<=course_price<=15000:\n",
    "    print(\"I will try to buy a course\")\n",
    "else:\n",
    "    print(\"Its out of my budget\")"
   ]
  },
  {
   "cell_type": "code",
   "execution_count": 52,
   "id": "9148a451-19a4-478e-873e-a4ed1237a056",
   "metadata": {},
   "outputs": [
    {
     "name": "stdin",
     "output_type": "stream",
     "text": [
      "enter your username sudh\n",
      "enter your password sudh@1234\n"
     ]
    },
    {
     "name": "stdout",
     "output_type": "stream",
     "text": [
      "you have logged in successfully\n"
     ]
    }
   ],
   "source": [
    "user_name = 'sudh'\n",
    "password = 'sudh@1234'\n",
    "if user_name == input('enter your username') and password == input('enter your password'):\n",
    "    print('you have logged in successfully')\n",
    "else:\n",
    "    print('enter correct username and password')"
   ]
  },
  {
   "cell_type": "code",
   "execution_count": 60,
   "id": "b46e3263-0901-4f08-9afc-ed0214bbdb34",
   "metadata": {},
   "outputs": [
    {
     "name": "stdin",
     "output_type": "stream",
     "text": [
      "enter your registered mobile number 123456\n"
     ]
    },
    {
     "name": "stdout",
     "output_type": "stream",
     "text": [
      "yes you are a registered user\n"
     ]
    },
    {
     "name": "stdin",
     "output_type": "stream",
     "text": [
      "enter otp that we have sent on your registered mobile number 1234\n"
     ]
    },
    {
     "name": "stdout",
     "output_type": "stream",
     "text": [
      "you have logged in successfully\n"
     ]
    }
   ],
   "source": [
    "mobile_no = 123456\n",
    "otp = 1234\n",
    "if mobile_no == int(input('enter your registered mobile number')):\n",
    "    print('yes you are a registered user')\n",
    "    if otp == int(input('enter otp that we have sent on your registered mobile number')):\n",
    "        print('you have logged in successfully')\n",
    "    else:\n",
    "        print('otp is not correct please try to enter again')\n",
    "else:\n",
    "    print('you have not entered a valid mobile number')"
   ]
  },
  {
   "cell_type": "code",
   "execution_count": 64,
   "id": "6dd1f3a9-428b-4ad4-8549-93de25874f9f",
   "metadata": {},
   "outputs": [
    {
     "name": "stdin",
     "output_type": "stream",
     "text": [
      "enter your registered mobile number 9576378995\n"
     ]
    },
    {
     "name": "stdout",
     "output_type": "stream",
     "text": [
      "yes you are a registered user\n"
     ]
    },
    {
     "name": "stdin",
     "output_type": "stream",
     "text": [
      "enter otp that we have sent on your registered mobile number 1234\n"
     ]
    },
    {
     "name": "stdout",
     "output_type": "stream",
     "text": [
      "you have logged in successfully\n"
     ]
    }
   ],
   "source": [
    "mobile_no = {9576378995, 8987395075, 9470665737, 8630045812}\n",
    "otp = 1234\n",
    "if int(input('enter your registered mobile number')) in mobile_no:\n",
    "    print('yes you are a registered user')\n",
    "    if otp == int(input('enter otp that we have sent on your registered mobile number')):\n",
    "        print('you have logged in successfully')\n",
    "    else:\n",
    "        print('otp is not correct please try to enter again')\n",
    "else:\n",
    "    print('you have not entered a valid mobile number')"
   ]
  },
  {
   "cell_type": "code",
   "execution_count": 79,
   "id": "21ea18c0-db47-44b1-9482-0582b2021f26",
   "metadata": {},
   "outputs": [
    {
     "name": "stdout",
     "output_type": "stream",
     "text": [
      "9576378995\n",
      "8987395075\n",
      "9470665737\n",
      "8630045812\n",
      "yes user is registered\n",
      "yes student details are available in db\n",
      "course accessed to this user is ['dsa', 'dsm', 'big data']\n"
     ]
    }
   ],
   "source": [
    "l = [12,3,3,4,5,6,6]\n",
    "mobile_no = [9576378995, 8987395075, 9470665737, 8630045812]\n",
    "stud_no = 8630045812\n",
    "stud_details = {'mobile_no':8630045812,'course':['dsa', 'dsm', 'big data']}\n",
    "for i in mobile_no:\n",
    "    print(i)\n",
    "    if i == stud_no:\n",
    "        print('yes user is registered')\n",
    "        if i == stud_details['mobile_no']:\n",
    "            print('yes student details are available in db')\n",
    "            print('course accessed to this user is', stud_details['course'])"
   ]
  },
  {
   "cell_type": "code",
   "execution_count": 87,
   "id": "d3bd1f8f-dea2-405e-9db5-e70bc7341439",
   "metadata": {},
   "outputs": [
    {
     "name": "stdout",
     "output_type": "stream",
     "text": [
      "[12, 3, 4, 5, 56]\n",
      "['anubhav', 'karan']\n"
     ]
    }
   ],
   "source": [
    "t = (12,3,4,5,56, 'anubhav', 'karan')\n",
    "l_int = []\n",
    "l_str = []\n",
    "for i in t:\n",
    "    if type(i) == str:\n",
    "        l_str.append(i)\n",
    "    elif type(i) == int:\n",
    "        l_int.append(i)\n",
    "print(l_int)\n",
    "print(l_str)"
   ]
  },
  {
   "cell_type": "code",
   "execution_count": 88,
   "id": "0c943ac5-6d12-4719-bcd1-84e3c337e8ac",
   "metadata": {},
   "outputs": [],
   "source": [
    "s = {3,4,5,7,8,56,76}"
   ]
  },
  {
   "cell_type": "code",
   "execution_count": 89,
   "id": "876ffdaf-a23d-4baa-af31-afdca69c2d72",
   "metadata": {},
   "outputs": [
    {
     "data": {
      "text/plain": [
       "{3, 4, 5, 7, 8, 56, 76}"
      ]
     },
     "execution_count": 89,
     "metadata": {},
     "output_type": "execute_result"
    }
   ],
   "source": [
    "s"
   ]
  },
  {
   "cell_type": "code",
   "execution_count": 90,
   "id": "bba30958-c84a-4119-a0ec-7e9669611345",
   "metadata": {},
   "outputs": [
    {
     "name": "stdout",
     "output_type": "stream",
     "text": [
      "3\n",
      "4\n",
      "5\n",
      "7\n",
      "8\n",
      "56\n",
      "76\n"
     ]
    }
   ],
   "source": [
    "for i in s:\n",
    "    print(i)"
   ]
  },
  {
   "cell_type": "code",
   "execution_count": 91,
   "id": "3a33fad2-b7e5-424e-82ec-4d56d93e99ab",
   "metadata": {},
   "outputs": [],
   "source": [
    "d = {'name': 'Anubhav', 'class': ['big data', 'data analytics', 'data science', 'dsa', 'architecture'], 'mobile no': 9576378995,'email id': 'anubhavkaran957@gmail.com' }"
   ]
  },
  {
   "cell_type": "code",
   "execution_count": 92,
   "id": "f3ed6e68-6ff6-41ed-97df-448c731c2ad6",
   "metadata": {},
   "outputs": [
    {
     "data": {
      "text/plain": [
       "{'name': 'Anubhav',\n",
       " 'class': ['big data',\n",
       "  'data analytics',\n",
       "  'data science',\n",
       "  'dsa',\n",
       "  'architecture'],\n",
       " 'mobile no': 9576378995,\n",
       " 'email id': 'anubhavkaran957@gmail.com'}"
      ]
     },
     "execution_count": 92,
     "metadata": {},
     "output_type": "execute_result"
    }
   ],
   "source": [
    "d"
   ]
  },
  {
   "cell_type": "code",
   "execution_count": 97,
   "id": "94ff934e-adb6-467d-b28f-a4f1acb40898",
   "metadata": {},
   "outputs": [
    {
     "name": "stdout",
     "output_type": "stream",
     "text": [
      "('name', 'Anubhav')\n",
      "('class', ['big data', 'data analytics', 'data science', 'dsa', 'architecture'])\n",
      "('mobile no', 9576378995)\n",
      "('email id', 'anubhavkaran957@gmail.com')\n"
     ]
    }
   ],
   "source": [
    "for i in d.items():\n",
    "    print(i)"
   ]
  },
  {
   "cell_type": "code",
   "execution_count": 100,
   "id": "a258eab0-220d-4939-aa62-c3e33a21ed08",
   "metadata": {},
   "outputs": [
    {
     "name": "stdout",
     "output_type": "stream",
     "text": [
      "['big data', 'data analytics', 'data science', 'dsa', 'architecture']\n"
     ]
    }
   ],
   "source": [
    "for i in d.values():\n",
    "    if type(i) == list:\n",
    "        print(i)"
   ]
  },
  {
   "cell_type": "code",
   "execution_count": 101,
   "id": "d3bda20b-eb9e-46fe-a787-085f29a7f567",
   "metadata": {},
   "outputs": [
    {
     "name": "stdout",
     "output_type": "stream",
     "text": [
      "No its not available\n"
     ]
    }
   ],
   "source": [
    "for i in d.values():\n",
    "    if type(i) == list:\n",
    "        if 'system design' in i:\n",
    "            print('Yes its available')\n",
    "        else:\n",
    "            print('No its not available')"
   ]
  },
  {
   "cell_type": "code",
   "execution_count": null,
   "id": "81e3bd12-73f3-4ebc-a34e-72f2b247cdf2",
   "metadata": {},
   "outputs": [],
   "source": []
  }
 ],
 "metadata": {
  "kernelspec": {
   "display_name": "Python 3 (ipykernel)",
   "language": "python",
   "name": "python3"
  },
  "language_info": {
   "codemirror_mode": {
    "name": "ipython",
    "version": 3
   },
   "file_extension": ".py",
   "mimetype": "text/x-python",
   "name": "python",
   "nbconvert_exporter": "python",
   "pygments_lexer": "ipython3",
   "version": "3.10.8"
  }
 },
 "nbformat": 4,
 "nbformat_minor": 5
}
